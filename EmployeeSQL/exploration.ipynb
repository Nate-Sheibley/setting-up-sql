{
 "cells": [
  {
   "cell_type": "code",
   "execution_count": 1,
   "metadata": {},
   "outputs": [],
   "source": [
    "import pandas as pd\n",
    "import os"
   ]
  },
  {
   "cell_type": "code",
   "execution_count": 2,
   "metadata": {},
   "outputs": [
    {
     "data": {
      "text/plain": [
       "['salaries.csv',\n",
       " 'dept_emp.csv',\n",
       " 'dept_manager.csv',\n",
       " 'departments.csv',\n",
       " 'titles.csv',\n",
       " 'employees.csv']"
      ]
     },
     "execution_count": 2,
     "metadata": {},
     "output_type": "execute_result"
    }
   ],
   "source": [
    "list_of_files = os.listdir('./data')\n",
    "list_of_files"
   ]
  },
  {
   "cell_type": "code",
   "execution_count": 3,
   "metadata": {},
   "outputs": [],
   "source": [
    "df_list = []\n",
    "for file in list_of_files:\n",
    "    df = pd.read_csv(f'./data/{file}')\n",
    "    df_list.append((file, df))"
   ]
  },
  {
   "cell_type": "code",
   "execution_count": 4,
   "metadata": {},
   "outputs": [
    {
     "name": "stdout",
     "output_type": "stream",
     "text": [
      "salaries.csv\n",
      "<class 'pandas.core.frame.DataFrame'>\n",
      "RangeIndex: 300024 entries, 0 to 300023\n",
      "Data columns (total 2 columns):\n",
      " #   Column  Non-Null Count   Dtype\n",
      "---  ------  --------------   -----\n",
      " 0   emp_no  300024 non-null  int64\n",
      " 1   salary  300024 non-null  int64\n",
      "dtypes: int64(2)\n",
      "memory usage: 4.6 MB\n",
      "None\n",
      "emp_no    0\n",
      "salary    0\n",
      "dtype: int64\n",
      "\n",
      "\n",
      "dept_emp.csv\n",
      "<class 'pandas.core.frame.DataFrame'>\n",
      "RangeIndex: 331603 entries, 0 to 331602\n",
      "Data columns (total 2 columns):\n",
      " #   Column   Non-Null Count   Dtype \n",
      "---  ------   --------------   ----- \n",
      " 0   emp_no   331603 non-null  int64 \n",
      " 1   dept_no  331603 non-null  object\n",
      "dtypes: int64(1), object(1)\n",
      "memory usage: 5.1+ MB\n",
      "None\n",
      "emp_no     0\n",
      "dept_no    0\n",
      "dtype: int64\n",
      "\n",
      "\n",
      "dept_manager.csv\n",
      "<class 'pandas.core.frame.DataFrame'>\n",
      "RangeIndex: 24 entries, 0 to 23\n",
      "Data columns (total 2 columns):\n",
      " #   Column   Non-Null Count  Dtype \n",
      "---  ------   --------------  ----- \n",
      " 0   dept_no  24 non-null     object\n",
      " 1   emp_no   24 non-null     int64 \n",
      "dtypes: int64(1), object(1)\n",
      "memory usage: 516.0+ bytes\n",
      "None\n",
      "dept_no    0\n",
      "emp_no     0\n",
      "dtype: int64\n",
      "\n",
      "\n",
      "departments.csv\n",
      "<class 'pandas.core.frame.DataFrame'>\n",
      "RangeIndex: 9 entries, 0 to 8\n",
      "Data columns (total 2 columns):\n",
      " #   Column     Non-Null Count  Dtype \n",
      "---  ------     --------------  ----- \n",
      " 0   dept_no    9 non-null      object\n",
      " 1   dept_name  9 non-null      object\n",
      "dtypes: object(2)\n",
      "memory usage: 276.0+ bytes\n",
      "None\n",
      "dept_no      0\n",
      "dept_name    0\n",
      "dtype: int64\n",
      "\n",
      "\n",
      "titles.csv\n",
      "<class 'pandas.core.frame.DataFrame'>\n",
      "RangeIndex: 7 entries, 0 to 6\n",
      "Data columns (total 2 columns):\n",
      " #   Column    Non-Null Count  Dtype \n",
      "---  ------    --------------  ----- \n",
      " 0   title_id  7 non-null      object\n",
      " 1   title     7 non-null      object\n",
      "dtypes: object(2)\n",
      "memory usage: 244.0+ bytes\n",
      "None\n",
      "title_id    0\n",
      "title       0\n",
      "dtype: int64\n",
      "\n",
      "\n",
      "employees.csv\n",
      "<class 'pandas.core.frame.DataFrame'>\n",
      "RangeIndex: 300024 entries, 0 to 300023\n",
      "Data columns (total 7 columns):\n",
      " #   Column        Non-Null Count   Dtype \n",
      "---  ------        --------------   ----- \n",
      " 0   emp_no        300024 non-null  int64 \n",
      " 1   emp_title_id  300024 non-null  object\n",
      " 2   birth_date    300024 non-null  object\n",
      " 3   first_name    300024 non-null  object\n",
      " 4   last_name     300024 non-null  object\n",
      " 5   sex           300024 non-null  object\n",
      " 6   hire_date     300024 non-null  object\n",
      "dtypes: int64(1), object(6)\n",
      "memory usage: 16.0+ MB\n",
      "None\n",
      "emp_no          0\n",
      "emp_title_id    0\n",
      "birth_date      0\n",
      "first_name      0\n",
      "last_name       0\n",
      "sex             0\n",
      "hire_date       0\n",
      "dtype: int64\n",
      "\n",
      "\n"
     ]
    }
   ],
   "source": [
    "for file, df in df_list:\n",
    "    print(file)\n",
    "    print(df.info())\n",
    "    print(df.isna().sum())\n",
    "    print('\\n')"
   ]
  },
  {
   "cell_type": "code",
   "execution_count": 5,
   "metadata": {},
   "outputs": [
    {
     "name": "stdout",
     "output_type": "stream",
     "text": [
      "salaries.csv\n",
      "(300024, 2)\n",
      "column: emp_no has all unqiue values:\n",
      " True\n",
      "column: salary has all unqiue values:\n",
      " False\n",
      "dept_emp.csv\n",
      "(331603, 2)\n",
      "column: emp_no has all unqiue values:\n",
      " False\n",
      "column: dept_no has all unqiue values:\n",
      " False\n",
      "dept_manager.csv\n",
      "(24, 2)\n",
      "column: dept_no has all unqiue values:\n",
      " False\n",
      "column: emp_no has all unqiue values:\n",
      " True\n",
      "departments.csv\n",
      "(9, 2)\n",
      "column: dept_no has all unqiue values:\n",
      " True\n",
      "column: dept_name has all unqiue values:\n",
      " True\n",
      "titles.csv\n",
      "(7, 2)\n",
      "column: title_id has all unqiue values:\n",
      " True\n",
      "column: title has all unqiue values:\n",
      " True\n",
      "employees.csv\n",
      "(300024, 7)\n",
      "column: emp_no has all unqiue values:\n",
      " True\n",
      "column: emp_title_id has all unqiue values:\n",
      " False\n",
      "column: birth_date has all unqiue values:\n",
      " False\n",
      "column: first_name has all unqiue values:\n",
      " False\n",
      "column: last_name has all unqiue values:\n",
      " False\n",
      "column: sex has all unqiue values:\n",
      " False\n",
      "column: hire_date has all unqiue values:\n",
      " False\n"
     ]
    }
   ],
   "source": [
    "for file, df in df_list:\n",
    "    print(file)\n",
    "    print(df.shape)\n",
    "    for column in df.columns:\n",
    "        print(f'column: {column} has all unqiue values:\\n', df[column].unique().shape[0] == df.shape[0])"
   ]
  },
  {
   "cell_type": "code",
   "execution_count": 6,
   "metadata": {},
   "outputs": [
    {
     "data": {
      "text/plain": [
       "['salaries.csv',\n",
       " 'dept_emp.csv',\n",
       " 'dept_manager.csv',\n",
       " 'departments.csv',\n",
       " 'titles.csv',\n",
       " 'employees.csv']"
      ]
     },
     "execution_count": 6,
     "metadata": {},
     "output_type": "execute_result"
    }
   ],
   "source": [
    "list_of_files\n"
   ]
  },
  {
   "cell_type": "code",
   "execution_count": 8,
   "metadata": {},
   "outputs": [
    {
     "data": {
      "text/html": [
       "<div>\n",
       "<style scoped>\n",
       "    .dataframe tbody tr th:only-of-type {\n",
       "        vertical-align: middle;\n",
       "    }\n",
       "\n",
       "    .dataframe tbody tr th {\n",
       "        vertical-align: top;\n",
       "    }\n",
       "\n",
       "    .dataframe thead th {\n",
       "        text-align: right;\n",
       "    }\n",
       "</style>\n",
       "<table border=\"1\" class=\"dataframe\">\n",
       "  <thead>\n",
       "    <tr style=\"text-align: right;\">\n",
       "      <th></th>\n",
       "      <th>title_id</th>\n",
       "      <th>title</th>\n",
       "    </tr>\n",
       "  </thead>\n",
       "  <tbody>\n",
       "    <tr>\n",
       "      <th>0</th>\n",
       "      <td>s0001</td>\n",
       "      <td>Staff</td>\n",
       "    </tr>\n",
       "    <tr>\n",
       "      <th>1</th>\n",
       "      <td>s0002</td>\n",
       "      <td>Senior Staff</td>\n",
       "    </tr>\n",
       "    <tr>\n",
       "      <th>2</th>\n",
       "      <td>e0001</td>\n",
       "      <td>Assistant Engineer</td>\n",
       "    </tr>\n",
       "    <tr>\n",
       "      <th>3</th>\n",
       "      <td>e0002</td>\n",
       "      <td>Engineer</td>\n",
       "    </tr>\n",
       "    <tr>\n",
       "      <th>4</th>\n",
       "      <td>e0003</td>\n",
       "      <td>Senior Engineer</td>\n",
       "    </tr>\n",
       "  </tbody>\n",
       "</table>\n",
       "</div>"
      ],
      "text/plain": [
       "  title_id               title\n",
       "0    s0001               Staff\n",
       "1    s0002        Senior Staff\n",
       "2    e0001  Assistant Engineer\n",
       "3    e0002            Engineer\n",
       "4    e0003     Senior Engineer"
      ]
     },
     "execution_count": 8,
     "metadata": {},
     "output_type": "execute_result"
    }
   ],
   "source": [
    "#view primary key title_id to see if it is numeric it is not\n",
    "df_list[4][1].head()"
   ]
  },
  {
   "cell_type": "code",
   "execution_count": null,
   "metadata": {},
   "outputs": [],
   "source": []
  }
 ],
 "metadata": {
  "kernelspec": {
   "display_name": ".venv",
   "language": "python",
   "name": "python3"
  },
  "language_info": {
   "codemirror_mode": {
    "name": "ipython",
    "version": 3
   },
   "file_extension": ".py",
   "mimetype": "text/x-python",
   "name": "python",
   "nbconvert_exporter": "python",
   "pygments_lexer": "ipython3",
   "version": "3.12.4"
  }
 },
 "nbformat": 4,
 "nbformat_minor": 2
}
