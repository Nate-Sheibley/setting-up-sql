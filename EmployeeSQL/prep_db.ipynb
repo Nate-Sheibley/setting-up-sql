{
 "cells": [
  {
   "cell_type": "code",
   "execution_count": 11,
   "metadata": {},
   "outputs": [],
   "source": [
    "import os\n",
    "import pandas as pd\n",
    "import sqlite3\n",
    "from charset_normalizer import detect"
   ]
  },
  {
   "cell_type": "code",
   "execution_count": 13,
   "metadata": {},
   "outputs": [
    {
     "data": {
      "text/plain": [
       "['departments.csv',\n",
       " 'dept_emp.csv',\n",
       " 'dept_manager.csv',\n",
       " 'employees.csv',\n",
       " 'salaries.csv',\n",
       " 'titles.csv']"
      ]
     },
     "execution_count": 13,
     "metadata": {},
     "output_type": "execute_result"
    }
   ],
   "source": [
    "# make a list of files to be added to the sql database \n",
    "path = './data/'\n",
    "files_list = os.listdir(path)\n",
    "files_list"
   ]
  },
  {
   "cell_type": "code",
   "execution_count": 16,
   "metadata": {},
   "outputs": [
    {
     "name": "stdout",
     "output_type": "stream",
     "text": [
      "got ascii as detected encoding for file departments.csv\n",
      "got ascii as detected encoding for file dept_emp.csv\n",
      "got ascii as detected encoding for file dept_manager.csv\n",
      "got ascii as detected encoding for file employees.csv\n",
      "got ascii as detected encoding for file salaries.csv\n",
      "got UTF-8-SIG as detected encoding for file titles.csv\n"
     ]
    }
   ],
   "source": [
    "# determine encoding for each file. \n",
    "# This was initially done because the .db file was in files_list resulting in a bug when trying to read in as a csv \n",
    "file_encoding_tups = [] \n",
    "for file in files_list:\n",
    "    file_path = path + file\n",
    "    # open file as readonly binary\n",
    "    with open(file_path, 'rb') as f:\n",
    "        # read the file so that the encoding can be detected\n",
    "        result = detect(f.read())\n",
    "        # if data exists print encoding andfile in a log string\n",
    "        if result['encoding'] is not None:\n",
    "            print('got', result['encoding'], 'as detected encoding for file', file)\n",
    "        # make a tuple with file name and encoding to add to list \n",
    "        file_encoding_tups.append((file, result['encoding']))"
   ]
  },
  {
   "cell_type": "code",
   "execution_count": 19,
   "metadata": {},
   "outputs": [],
   "source": [
    "table_df_tup_list = []\n",
    "for file, encoding in file_encoding_tups:\n",
    "    # read csv to dataframe with correct encoding\n",
    "    temp_df = pd.read_csv(f'{path}{file}', encoding=encoding)\n",
    "    # truncate filename to tablename\n",
    "    # add table name and df to a list of tuples to add to the sqlite db\n",
    "    table_df_tup_list.append((file[:-4], temp_df))\n",
    "# commented bc output was too large\n",
    "# table_df_tup_list"
   ]
  },
  {
   "cell_type": "code",
   "execution_count": 21,
   "metadata": {},
   "outputs": [],
   "source": [
    "# Make sqlite db connection.\n",
    "conn = sqlite3.connect(\"sql_challenge.sqlite\")\n"
   ]
  },
  {
   "cell_type": "code",
   "execution_count": 22,
   "metadata": {},
   "outputs": [],
   "source": [
    "for tablename, df in table_df_tup_list:\n",
    "    df.to_sql(tablename, conn, if_exists='replace')"
   ]
  }
 ],
 "metadata": {
  "kernelspec": {
   "display_name": "Python 3",
   "language": "python",
   "name": "python3"
  },
  "language_info": {
   "codemirror_mode": {
    "name": "ipython",
    "version": 3
   },
   "file_extension": ".py",
   "mimetype": "text/x-python",
   "name": "python",
   "nbconvert_exporter": "python",
   "pygments_lexer": "ipython3",
   "version": "3.12.4"
  }
 },
 "nbformat": 4,
 "nbformat_minor": 2
}
